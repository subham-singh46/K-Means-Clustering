{
 "cells": [
  {
   "cell_type": "code",
   "execution_count": null,
   "metadata": {},
   "outputs": [],
   "source": [
    "import pandas as pd \n",
    "import numpy as np \n",
    "\n",
    "import  matplotlib.pyplot as plt \n",
    "%matplotlib inline\n",
    "\n",
    "from sklearn import datasets \n",
    "\n",
    "\n",
    "\n"
   ]
  },
  {
   "cell_type": "code",
   "execution_count": null,
   "metadata": {},
   "outputs": [],
   "source": [
    "iris=pd.read_csv('iris.csv',names=['sepal_length', 'sepal_width','petal_length','petal_width','species'])\n",
    "\n",
    "print(iris)"
   ]
  },
  {
   "cell_type": "code",
   "execution_count": null,
   "metadata": {},
   "outputs": [],
   "source": [
    "#we want to work with sepal_length and sepal_width therefore we will make a datafarame with only  those two components and a target varaible\n",
    "\n",
    "iris=datasets.load_iris()#----------------->important to use this step to load dataset, directly converts the data to numpy array and also enables us to use dataframe commands and functions\n",
    "\n",
    "\n",
    "\n",
    "print(iris.feature_names)\n",
    "print(iris.data)\n"
   ]
  },
  {
   "cell_type": "code",
   "execution_count": null,
   "metadata": {},
   "outputs": [],
   "source": [
    "print(iris.target)"
   ]
  },
  {
   "cell_type": "code",
   "execution_count": null,
   "metadata": {},
   "outputs": [],
   "source": [
    "#creating data frame with two elements and a target variable\n",
    "\n",
    "df=pd.DataFrame({'x':iris.data[:,0],'y':iris.data[:,1],'cluster':iris.target})\n",
    "df"
   ]
  },
  {
   "cell_type": "code",
   "execution_count": null,
   "metadata": {},
   "outputs": [],
   "source": [
    "#plotting a scatter plot\n",
    "plt.scatter(df['x'],df['y'])"
   ]
  },
  {
   "cell_type": "code",
   "execution_count": null,
   "metadata": {},
   "outputs": [],
   "source": [
    "#finding clusters\n",
    "\n",
    "from sklearn.cluster import KMeans\n",
    "wcss=[]\n",
    "for i in range(1,11):\n",
    "\n",
    " km=KMeans(n_clusters=i)\n",
    " km.fit_predict (df)\n",
    "\n",
    " wcss.append(km.inertia_)\n",
    "\n",
    " wcss"
   ]
  },
  {
   "cell_type": "code",
   "execution_count": null,
   "metadata": {},
   "outputs": [],
   "source": [
    "print(wcss)"
   ]
  },
  {
   "cell_type": "code",
   "execution_count": null,
   "metadata": {},
   "outputs": [],
   "source": [
    "#elbow method\n",
    "\n",
    "plt.plot(range(1,11),wcss)"
   ]
  },
  {
   "cell_type": "code",
   "execution_count": null,
   "metadata": {},
   "outputs": [],
   "source": [
    "# assigning and clecking clusters\n",
    "\n",
    "km=KMeans(n_clusters=3)\n",
    "cl=km.fit_predict(df)\n",
    "\n",
    "cl"
   ]
  },
  {
   "cell_type": "code",
   "execution_count": null,
   "metadata": {},
   "outputs": [],
   "source": [
    "print(cl)"
   ]
  },
  {
   "cell_type": "code",
   "execution_count": null,
   "metadata": {},
   "outputs": [],
   "source": [
    "#as we can see that the no of clusters are 3 , we now have to find the centroids of the clusters\n",
    "\n",
    "centroids={}\n",
    "for i in range (3):\n",
    "    result_list=[]\n",
    "\n",
    "    result_list.append(df.loc[df['cluster']==i]['x'].mean())\n",
    "    result_list.append(df.loc[df['cluster']==i]['y'].mean())\n",
    "\n",
    "    centroids[i]=result_list\n",
    "\n",
    "    \n",
    "\n"
   ]
  },
  {
   "cell_type": "code",
   "execution_count": null,
   "metadata": {},
   "outputs": [],
   "source": [
    "print(centroids)"
   ]
  },
  {
   "cell_type": "code",
   "execution_count": null,
   "metadata": {},
   "outputs": [],
   "source": [
    "#plotting graph\n",
    "\n",
    "fig=plt.figure(figsize=(5,5))\n",
    "\n",
    "plt.scatter(df['x'],df['y'],c=iris.target,cmap='gist_rainbow')\n",
    "\n",
    "plt.xlabel('sepal length')\n",
    "plt.ylabel('sepal width')"
   ]
  },
  {
   "cell_type": "code",
   "execution_count": null,
   "metadata": {},
   "outputs": [],
   "source": [
    "#plotting centroids:\n",
    "\n",
    "\n",
    "\n",
    "colmap={0:'r',1:'g',2:'b'}\n",
    "for i in range (3):\n",
    "\n",
    "    plt.scatter(centroids[i][0],centroids[i][1],c=colmap[i])\n",
    "\n",
    "    \n"
   ]
  },
  {
   "cell_type": "code",
   "execution_count": null,
   "metadata": {},
   "outputs": [],
   "source": [
    "#showing complete graph\n",
    "\n",
    "#plotting points\n",
    "fig=plt.figure(figsize=(5,5))\n",
    "plt.scatter(df['x'],df['y'],c=iris.target,alpha=0.3)\n",
    "\n",
    "#plotting centroids\n",
    "\n",
    "colmap={0:'r',1:'g',2:'b'}\n",
    "col=[0,1]\n",
    "\n",
    "for i in range(3):\n",
    "    plt.scatter(centroids[i][0],centroids[i][1],c=colmap[i],edgecolors='k')\n"
   ]
  },
  {
   "cell_type": "markdown",
   "metadata": {},
   "source": [
    "ASSIGNMENT STAGE: CALCULATING DISTANCE AND UPDATING DATAFRAME"
   ]
  },
  {
   "cell_type": "code",
   "execution_count": null,
   "metadata": {},
   "outputs": [],
   "source": [
    "#def assignment(df,centroids):\n",
    "\n",
    "for i in range(3):\n",
    "\n",
    "        df['distance from_{}'.format(i)]=(np.sqrt((df['x']  -  centroids[i][0]**2  +  (df['y']  - centroids[i][1]**2))))\n",
    "\n",
    "        \n",
    "\n",
    "        \n",
    "\n",
    "        print(df)\n",
    "    #return(df)\n",
    "\n"
   ]
  },
  {
   "cell_type": "code",
   "execution_count": null,
   "metadata": {},
   "outputs": [],
   "source": []
  }
 ],
 "metadata": {
  "kernelspec": {
   "display_name": "Python 3.10.4 64-bit",
   "language": "python",
   "name": "python3"
  },
  "language_info": {
   "codemirror_mode": {
    "name": "ipython",
    "version": 3
   },
   "file_extension": ".py",
   "mimetype": "text/x-python",
   "name": "python",
   "nbconvert_exporter": "python",
   "pygments_lexer": "ipython3",
   "version": "3.10.4"
  },
  "orig_nbformat": 4,
  "vscode": {
   "interpreter": {
    "hash": "c3cb1dd373ca4450157e6f8978f97933cc3a7cdc0a8066204e60afd9526c388d"
   }
  }
 },
 "nbformat": 4,
 "nbformat_minor": 2
}
